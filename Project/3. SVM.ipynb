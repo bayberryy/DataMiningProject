{
 "cells": [
  {
   "cell_type": "code",
   "execution_count": 15,
   "metadata": {
    "id": "xTLNPV2nhx6s"
   },
   "outputs": [],
   "source": [
    "# import general libraries & data-preprocessing\n",
    "import numpy as np\n",
    "import pandas as pd\n",
    "import matplotlib.pyplot as plt\n",
    "import seaborn as sns\n",
    "from sklearn.model_selection import train_test_split\n",
    "from sklearn.preprocessing import StandardScaler\n",
    "\n",
    "# import different models\n",
    "from sklearn.svm import LinearSVC\n",
    "from sklearn.tree import DecisionTreeClassifier\n",
    "from sklearn.ensemble import AdaBoostClassifier\n",
    "from sklearn.ensemble import BaggingClassifier\n",
    "\n",
    "# import evaluation metrics\n",
    "from sklearn.model_selection import cross_val_score\n",
    "from sklearn.metrics import accuracy_score\n",
    "from sklearn.metrics import precision_score\n",
    "from sklearn.metrics import recall_score\n",
    "from sklearn.metrics import f1_score\n",
    "\n",
    "# import model tuning methods\n",
    "from hyperopt import STATUS_OK, Trials, fmin, hp, tpe, space_eval\n",
    "import hyperopt\n",
    "from sklearn.model_selection import GridSearchCV\n",
    "\n",
    "# visualisations\n",
    "from sklearn.tree import export_graphviz\n",
    "import pydotplus\n",
    "from six import StringIO \n",
    "from IPython.display import Image\n",
    "\n",
    "# import warnings\n",
    "# warnings.filterwarnings(\"ignore\")\n"
   ]
  },
  {
   "cell_type": "markdown",
   "metadata": {},
   "source": [
    "## 0. Data preparation"
   ]
  },
  {
   "cell_type": "code",
   "execution_count": 16,
   "metadata": {
    "id": "7hYUpGAhhx6u"
   },
   "outputs": [
    {
     "data": {
      "text/html": [
       "<div>\n",
       "<style scoped>\n",
       "    .dataframe tbody tr th:only-of-type {\n",
       "        vertical-align: middle;\n",
       "    }\n",
       "\n",
       "    .dataframe tbody tr th {\n",
       "        vertical-align: top;\n",
       "    }\n",
       "\n",
       "    .dataframe thead th {\n",
       "        text-align: right;\n",
       "    }\n",
       "</style>\n",
       "<table border=\"1\" class=\"dataframe\">\n",
       "  <thead>\n",
       "    <tr style=\"text-align: right;\">\n",
       "      <th></th>\n",
       "      <th>age</th>\n",
       "      <th>gender</th>\n",
       "      <th>ap_hi</th>\n",
       "      <th>ap_lo</th>\n",
       "      <th>cholesterol</th>\n",
       "      <th>gluc</th>\n",
       "      <th>smoke</th>\n",
       "      <th>alco</th>\n",
       "      <th>active</th>\n",
       "      <th>cardio</th>\n",
       "      <th>BMI</th>\n",
       "    </tr>\n",
       "  </thead>\n",
       "  <tbody>\n",
       "    <tr>\n",
       "      <th>0</th>\n",
       "      <td>72</td>\n",
       "      <td>1</td>\n",
       "      <td>110</td>\n",
       "      <td>80</td>\n",
       "      <td>1</td>\n",
       "      <td>1</td>\n",
       "      <td>0</td>\n",
       "      <td>0</td>\n",
       "      <td>1</td>\n",
       "      <td>0</td>\n",
       "      <td>21.967</td>\n",
       "    </tr>\n",
       "    <tr>\n",
       "      <th>1</th>\n",
       "      <td>67</td>\n",
       "      <td>0</td>\n",
       "      <td>140</td>\n",
       "      <td>90</td>\n",
       "      <td>3</td>\n",
       "      <td>1</td>\n",
       "      <td>0</td>\n",
       "      <td>0</td>\n",
       "      <td>1</td>\n",
       "      <td>1</td>\n",
       "      <td>34.928</td>\n",
       "    </tr>\n",
       "    <tr>\n",
       "      <th>2</th>\n",
       "      <td>71</td>\n",
       "      <td>0</td>\n",
       "      <td>130</td>\n",
       "      <td>70</td>\n",
       "      <td>3</td>\n",
       "      <td>1</td>\n",
       "      <td>0</td>\n",
       "      <td>0</td>\n",
       "      <td>0</td>\n",
       "      <td>1</td>\n",
       "      <td>23.508</td>\n",
       "    </tr>\n",
       "    <tr>\n",
       "      <th>3</th>\n",
       "      <td>74</td>\n",
       "      <td>1</td>\n",
       "      <td>150</td>\n",
       "      <td>100</td>\n",
       "      <td>1</td>\n",
       "      <td>1</td>\n",
       "      <td>0</td>\n",
       "      <td>0</td>\n",
       "      <td>1</td>\n",
       "      <td>1</td>\n",
       "      <td>28.710</td>\n",
       "    </tr>\n",
       "    <tr>\n",
       "      <th>4</th>\n",
       "      <td>75</td>\n",
       "      <td>0</td>\n",
       "      <td>100</td>\n",
       "      <td>60</td>\n",
       "      <td>1</td>\n",
       "      <td>1</td>\n",
       "      <td>0</td>\n",
       "      <td>0</td>\n",
       "      <td>0</td>\n",
       "      <td>0</td>\n",
       "      <td>23.011</td>\n",
       "    </tr>\n",
       "  </tbody>\n",
       "</table>\n",
       "</div>"
      ],
      "text/plain": [
       "   age  gender  ap_hi  ap_lo  cholesterol  gluc  smoke  alco  active  cardio  \\\n",
       "0   72       1    110     80            1     1      0     0       1       0   \n",
       "1   67       0    140     90            3     1      0     0       1       1   \n",
       "2   71       0    130     70            3     1      0     0       0       1   \n",
       "3   74       1    150    100            1     1      0     0       1       1   \n",
       "4   75       0    100     60            1     1      0     0       0       0   \n",
       "\n",
       "      BMI  \n",
       "0  21.967  \n",
       "1  34.928  \n",
       "2  23.508  \n",
       "3  28.710  \n",
       "4  23.011  "
      ]
     },
     "execution_count": 16,
     "metadata": {},
     "output_type": "execute_result"
    }
   ],
   "source": [
    "df = pd.read_csv('cardio_train_cleaned.csv')\n",
    "\n",
    "df.head()"
   ]
  },
  {
   "cell_type": "code",
   "execution_count": 18,
   "metadata": {
    "id": "bfc--oK7hx6u",
    "outputId": "ed55cb96-d3c0-4db4-dbd6-b123c2739db2"
   },
   "outputs": [],
   "source": [
    "# split dataframe into variables and label\n",
    "X = df.drop('cardio', axis=1)\n",
    "y = df['cardio']\n",
    "\n",
    "# scaling with StandardScalar\n",
    "standardScaler = StandardScaler() \n",
    "X_norm = standardScaler.fit_transform(X)\n",
    "\n",
    "# split data into train and validation and test\n",
    "X_train, X_rem, y_train, y_rem = train_test_split(X_norm,y, train_size=0.8, stratify=y, random_state=42)\n",
    "X_valid, X_test, y_valid, y_test = train_test_split(X_rem,y_rem, test_size=0.5, stratify=y_rem, random_state=42)"
   ]
  },
  {
   "cell_type": "markdown",
   "metadata": {
    "id": "g2Q7U1sNr42h"
   },
   "source": [
    "## 1. Support vector machine"
   ]
  },
  {
   "cell_type": "code",
   "execution_count": 19,
   "metadata": {},
   "outputs": [
    {
     "name": "stdout",
     "output_type": "stream",
     "text": [
      "0.7242901417738212                                                                                                     \n",
      "{'C': 8, 'dual': False, 'tol': 0.03991}                                                                                \n",
      "0.7242901417738212                                                                                                     \n",
      "{'C': 2, 'dual': False, 'tol': 0.07275000000000001}                                                                    \n",
      "0.7242901417738212                                                                                                     \n",
      "{'C': 3, 'dual': False, 'tol': 0.03943}                                                                                \n",
      "0.7242901417738212                                                                                                     \n",
      "{'C': 7, 'dual': False, 'tol': 0.05183}                                                                                \n",
      "0.7242901417738212                                                                                                     \n",
      "{'C': 3, 'dual': False, 'tol': 0.05748}                                                                                \n",
      "0.7242901417738212                                                                                                     \n",
      "{'C': 4, 'dual': False, 'tol': 0.02968}                                                                                \n",
      "0.7242901417738212                                                                                                     \n",
      "{'C': 5, 'dual': False, 'tol': 0.036680000000000004}                                                                   \n",
      "0.7242901417738212                                                                                                     \n",
      "{'C': 2, 'dual': False, 'tol': 0.047170000000000004}                                                                   \n",
      "0.7239934058687768                                                                                                     \n",
      "{'C': 9, 'dual': False, 'tol': 0.0099}                                                                                 \n",
      "0.7242901417738212                                                                                                     \n",
      "{'C': 6, 'dual': False, 'tol': 0.06355000000000001}                                                                    \n",
      "100%|███████████████████████████████████████████████| 10/10 [00:00<00:00, 12.98trial/s, best loss: -0.7242901417738212]\n",
      "Best:\n",
      "{'C': 7, 'dual': 0, 'tol': 0.03991}\n"
     ]
    }
   ],
   "source": [
    "# hyperparameter tuning with Hyperopt\n",
    "def objective(search_space):\n",
    "    svc = LinearSVC(**search_space) \n",
    "    current_score = cross_val_score(svc, X_valid, y_valid, cv=10).mean()\n",
    "    print(current_score, search_space)\n",
    "    return {'loss': -current_score, 'status': STATUS_OK}\n",
    "\n",
    "search_space = {'C': hp.choice('C', range(1,10)),\n",
    "                'tol': hp.quniform('tol', 0.0001, 0.1, 0.00001),\n",
    "                'dual': hp.choice('dual', [False])\n",
    "        }\n",
    "\n",
    "best_params = fmin(fn=objective, space=search_space, algo=tpe.suggest, max_evals=10)\n",
    "best_params_base = best_params\n",
    "print('Best:')\n",
    "print(best_params)\n",
    "    "
   ]
  },
  {
   "cell_type": "code",
   "execution_count": 20,
   "metadata": {
    "id": "BUIQFv9Sr42h",
    "outputId": "e033aac0-605b-4e32-eec0-a31a5bde9c2c"
   },
   "outputs": [
    {
     "name": "stdout",
     "output_type": "stream",
     "text": [
      "Train Results\n",
      "Accuracy:  0.7260261280459557\n",
      "Precision:  0.7547681539807524\n",
      "Recall:  0.6527446752165853\n",
      "f1_score: 0.7000588318828231\n",
      "\n",
      "Test Results\n",
      "Accuracy:  0.7245775274236584\n",
      "Precision:  0.7524441340782123\n",
      "Recall:  0.6522397094430993\n",
      "f1_score: 0.6987678339818417\n"
     ]
    }
   ],
   "source": [
    "# fit hyperparamater(Hyperopt) and train data into the model\n",
    "svm = LinearSVC(C=best_params_base['C'], tol=best_params_base['tol'], dual=False)\n",
    "svm.fit(X_train, y_train)\n",
    "y_pred_train = svm.predict(X_train)\n",
    "y_pred_test = svm.predict(X_test)\n",
    "\n",
    "# evaluation metrics\n",
    "accuracy = accuracy_score(y_train, y_pred_train)\n",
    "precision = precision_score(y_train, y_pred_train, average='binary')\n",
    "recall = recall_score(y_train, y_pred_train, average='binary')\n",
    "f1 = f1_score(y_train, y_pred_train, average='binary')\n",
    "\n",
    "print('Train Results')\n",
    "print('Accuracy: ', accuracy)\n",
    "print('Precision: ', precision)\n",
    "print('Recall: ', recall)\n",
    "print('f1_score:', f1)\n",
    "\n",
    "accuracy = accuracy_score(y_test, y_pred_test)\n",
    "precision = precision_score(y_test, y_pred_test, average='binary')\n",
    "recall = recall_score(y_test, y_pred_test, average='binary')\n",
    "f1 = f1_score(y_test, y_pred_test, average='binary')\n",
    "\n",
    "print('\\nTest Results')\n",
    "print('Accuracy: ', accuracy)\n",
    "print('Precision: ', precision)\n",
    "print('Recall: ', recall)\n",
    "print('f1_score:', f1)"
   ]
  },
  {
   "cell_type": "markdown",
   "metadata": {
    "id": "_i643rSir42h"
   },
   "source": [
    "## 2. Bagging with SVM"
   ]
  },
  {
   "cell_type": "code",
   "execution_count": 21,
   "metadata": {},
   "outputs": [
    {
     "name": "stdout",
     "output_type": "stream",
     "text": [
      "0.723993625673151                                                                                                      \n",
      "{'n_estimators': 287}                                                                                                  \n",
      "0.7241413342125508                                                                                                     \n",
      "{'n_estimators': 745}                                                                                                  \n",
      "0.7242901417738212                                                                                                     \n",
      "{'n_estimators': 62}                                                                                                   \n",
      "0.7245868776788658                                                                                                     \n",
      "{'n_estimators': 223}                                                                                                  \n",
      "0.7245864380701176                                                                                                     \n",
      "{'n_estimators': 309}                                                                                                  \n",
      "0.7242897021650732                                                                                                     \n",
      "{'n_estimators': 811}                                                                                                  \n",
      "0.7242901417738212                                                                                                     \n",
      "{'n_estimators': 200}                                                                                                  \n",
      "0.7244385097263436                                                                                                     \n",
      "{'n_estimators': 622}                                                                                                  \n",
      "0.7242897021650732                                                                                                     \n",
      "{'n_estimators': 964}                                                                                                  \n",
      "0.7248831739751621                                                                                                     \n",
      "{'n_estimators': 147}                                                                                                  \n",
      "100%|███████████████████████████████████████████████| 10/10 [04:38<00:00, 27.86s/trial, best loss: -0.7248831739751621]\n",
      "Best:\n",
      "{'n_estimators': 146}\n"
     ]
    }
   ],
   "source": [
    "# hyperparameter tuning with Hyperopt\n",
    "def objective(search_space):\n",
    "    svm = LinearSVC(C=best_params_base['C'], tol=best_params_base['tol'], dual=False)\n",
    "    clf = BaggingClassifier(**search_space, base_estimator=svm)\n",
    "    current_score = cross_val_score(clf, X_valid, y_valid, cv=10).mean()\n",
    "    print(current_score, search_space)\n",
    "    return {'loss': -current_score, 'status': STATUS_OK}\n",
    "\n",
    "search_space = {\n",
    "            'n_estimators': hp.choice('n_estimators', range(1, 1000))\n",
    "        }\n",
    "\n",
    "best_params = fmin(fn=objective, space=search_space, algo=tpe.suggest, max_evals=10)\n",
    "print('Best:')\n",
    "print(best_params)"
   ]
  },
  {
   "cell_type": "code",
   "execution_count": 22,
   "metadata": {
    "id": "csyFWrRdr42h",
    "outputId": "b4c87ea0-811c-4e3f-8da9-99dffc40ba0b",
    "scrolled": false
   },
   "outputs": [
    {
     "name": "stdout",
     "output_type": "stream",
     "text": [
      "Train Results\n",
      "Accuracy:  0.7261929028073751\n",
      "Precision:  0.7552888616354956\n",
      "Recall:  0.6523663602315287\n",
      "f1_score: 0.7000649561545955\n",
      "\n",
      "Test Results\n",
      "Accuracy:  0.7245775274236584\n",
      "Precision:  0.7522679692951849\n",
      "Recall:  0.652542372881356\n",
      "f1_score: 0.6988654781199353\n"
     ]
    }
   ],
   "source": [
    "# fit hyperparamater(Hyperopt) and train data into the model\n",
    "svm = LinearSVC(C=best_params_base['C'], tol=best_params_base['tol'], dual=False)\n",
    "clf = BaggingClassifier(base_estimator=svm, n_estimators=best_params['n_estimators'], random_state=42)\n",
    "clf.fit(X_train, y_train)\n",
    "y_pred_train = clf.predict(X_train)\n",
    "y_pred_test = clf.predict(X_test)\n",
    "\n",
    "# evaluation metrics\n",
    "accuracy = accuracy_score(y_train, y_pred_train)\n",
    "precision = precision_score(y_train, y_pred_train, average='binary')\n",
    "recall = recall_score(y_train, y_pred_train, average='binary')\n",
    "f1 = f1_score(y_train, y_pred_train, average='binary')\n",
    "\n",
    "print('Train Results')\n",
    "print('Accuracy: ', accuracy)\n",
    "print('Precision: ', precision)\n",
    "print('Recall: ', recall)\n",
    "print('f1_score:', f1)\n",
    "\n",
    "accuracy = accuracy_score(y_test, y_pred_test)\n",
    "precision = precision_score(y_test, y_pred_test, average='binary')\n",
    "recall = recall_score(y_test, y_pred_test, average='binary')\n",
    "f1 = f1_score(y_test, y_pred_test, average='binary')\n",
    "\n",
    "print('\\nTest Results')\n",
    "print('Accuracy: ', accuracy)\n",
    "print('Precision: ', precision)\n",
    "print('Recall: ', recall)\n",
    "print('f1_score:', f1)"
   ]
  },
  {
   "cell_type": "markdown",
   "metadata": {
    "id": "GzSk7rhbr42h"
   },
   "source": [
    "## 3. AdaBoost with SVM"
   ]
  },
  {
   "cell_type": "code",
   "execution_count": 23,
   "metadata": {
    "id": "C57B4o3vr42h",
    "outputId": "ec2186a0-8584-446e-b4d2-72bef5ace577"
   },
   "outputs": [
    {
     "name": "stdout",
     "output_type": "stream",
     "text": [
      "0.723252665128036                                                                                                      \n",
      "{'algorithm': 'SAMME', 'learning_rate': 0.0461, 'n_estimators': 865}                                                   \n",
      "0.7229561490273657                                                                                                     \n",
      "{'algorithm': 'SAMME', 'learning_rate': 0.038900000000000004, 'n_estimators': 169}                                     \n",
      "0.7229561490273657                                                                                                     \n",
      "{'algorithm': 'SAMME', 'learning_rate': 0.0252, 'n_estimators': 447}                                                   \n",
      "0.7231045169798879                                                                                                     \n",
      "{'algorithm': 'SAMME', 'learning_rate': 0.0358, 'n_estimators': 300}                                                   \n",
      "0.7231042971755138                                                                                                     \n",
      "{'algorithm': 'SAMME', 'learning_rate': 0.0262, 'n_estimators': 770}                                                   \n",
      "0.7229561490273657                                                                                                     \n",
      "{'algorithm': 'SAMME', 'learning_rate': 0.033600000000000005, 'n_estimators': 246}                                     \n",
      "0.7248822947576656                                                                                                     \n",
      "{'algorithm': 'SAMME', 'learning_rate': 0.0029000000000000002, 'n_estimators': 638}                                    \n",
      "0.7231042971755138                                                                                                     \n",
      "{'algorithm': 'SAMME', 'learning_rate': 0.0363, 'n_estimators': 836}                                                   \n",
      "0.7231042971755138                                                                                                     \n",
      "{'algorithm': 'SAMME', 'learning_rate': 0.0443, 'n_estimators': 639}                                                   \n",
      "0.7238450379162545                                                                                                     \n",
      "{'algorithm': 'SAMME', 'learning_rate': 0.0058000000000000005, 'n_estimators': 450}                                    \n",
      "100%|███████████████████████████████████████████████| 10/10 [06:34<00:00, 39.45s/trial, best loss: -0.7248822947576656]\n",
      "Best:\n",
      "{'algorithm': 0, 'learning_rate': 0.0029000000000000002, 'n_estimators': 588}\n"
     ]
    }
   ],
   "source": [
    "# hyperparameter tuning with Hyperopt\n",
    "def objective(search_space):\n",
    "    svm = LinearSVC(C=best_params_base['C'], tol=best_params_base['tol'], dual=False)\n",
    "    clf = AdaBoostClassifier(**search_space, base_estimator=svm)\n",
    "    current_score = cross_val_score(clf, X_valid, y_valid, cv=10).mean()\n",
    "    print(current_score, search_space)\n",
    "    return {'loss': -current_score, 'status': STATUS_OK}\n",
    "\n",
    "search_space = {\n",
    "            'n_estimators': hp.choice('n_estimators', range(50, 1000)),\n",
    "            'learning_rate': hp.quniform('learning_rate', 0, 0.05, 0.0001),\n",
    "            'algorithm': hp.choice('algorithm', ['SAMME'])\n",
    "        }\n",
    "\n",
    "best_params = fmin(fn=objective, space=search_space, algo=tpe.suggest, max_evals=10)\n",
    "print('Best:')\n",
    "print(best_params)"
   ]
  },
  {
   "cell_type": "code",
   "execution_count": 24,
   "metadata": {
    "id": "AA1ie0GLr42h"
   },
   "outputs": [
    {
     "name": "stdout",
     "output_type": "stream",
     "text": [
      "Train Results\n",
      "Accuracy:  0.7279162420087093\n",
      "Precision:  0.7422480620155039\n",
      "Recall:  0.6810048046003102\n",
      "f1_score: 0.7103087698530138\n",
      "\n",
      "Test Results\n",
      "Accuracy:  0.7238363474651646\n",
      "Precision:  0.7381818181818182\n",
      "Recall:  0.6758474576271186\n",
      "f1_score: 0.7056407015326276\n"
     ]
    }
   ],
   "source": [
    "# Get algorithm string as hp.choice only can display the integer\n",
    "algo_dic = {0:'SAMME', 1:'SAMME.R'}\n",
    "algo = algo_dic[best_params['algorithm']]\n",
    "\n",
    "# fit hyperparamater(Hyperopt) and train data into the model\n",
    "svm = LinearSVC(C=best_params_base['C'], tol=best_params_base['tol'], dual=False)\n",
    "clf = AdaBoostClassifier(base_estimator=svm, n_estimators=best_params['n_estimators'], learning_rate=best_params['learning_rate'], algorithm=algo)\n",
    "clf.fit(X_train, y_train)\n",
    "y_pred_train = clf.predict(X_train)\n",
    "y_pred_test = clf.predict(X_test)\n",
    "\n",
    "\n",
    "# evaluation metrics\n",
    "accuracy = accuracy_score(y_train, y_pred_train)\n",
    "precision = precision_score(y_train, y_pred_train, average='binary')\n",
    "recall = recall_score(y_train, y_pred_train, average='binary')\n",
    "f1 = f1_score(y_train, y_pred_train, average='binary')\n",
    "\n",
    "print('Train Results')\n",
    "print('Accuracy: ', accuracy)\n",
    "print('Precision: ', precision)\n",
    "print('Recall: ', recall)\n",
    "print('f1_score:', f1)\n",
    "\n",
    "accuracy = accuracy_score(y_test, y_pred_test)\n",
    "precision = precision_score(y_test, y_pred_test, average='binary')\n",
    "recall = recall_score(y_test, y_pred_test, average='binary')\n",
    "f1 = f1_score(y_test, y_pred_test, average='binary')\n",
    "\n",
    "print('\\nTest Results')\n",
    "print('Accuracy: ', accuracy)\n",
    "print('Precision: ', precision)\n",
    "print('Recall: ', recall)\n",
    "print('f1_score:', f1)\n"
   ]
  },
  {
   "cell_type": "markdown",
   "metadata": {},
   "source": [
    "Generally...\n",
    "\n",
    "1. Bagging perform slightly worse than base estimator for all metrics\n",
    "2. Adaboost perform better than base estimator in accuracy, recall and f1-score"
   ]
  }
 ],
 "metadata": {
  "colab": {
   "provenance": []
  },
  "kernelspec": {
   "display_name": "Python 3",
   "language": "python",
   "name": "python3"
  },
  "language_info": {
   "codemirror_mode": {
    "name": "ipython",
    "version": 3
   },
   "file_extension": ".py",
   "mimetype": "text/x-python",
   "name": "python",
   "nbconvert_exporter": "python",
   "pygments_lexer": "ipython3",
   "version": "3.8.3"
  }
 },
 "nbformat": 4,
 "nbformat_minor": 1
}
