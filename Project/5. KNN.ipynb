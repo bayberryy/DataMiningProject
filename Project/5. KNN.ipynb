{
 "cells": [
  {
   "cell_type": "code",
   "execution_count": 31,
   "metadata": {
    "id": "1e8c7e79"
   },
   "outputs": [],
   "source": [
    "# import general libraries & data preprocessing\n",
    "import pandas as pd\n",
    "import numpy as np\n",
    "import matplotlib.pyplot as plt\n",
    "from sklearn.model_selection import train_test_split\n",
    "from sklearn.preprocessing import StandardScaler\n",
    "\n",
    "# import different models\n",
    "from sklearn.neighbors import KNeighborsClassifier\n",
    "from sklearn.ensemble import BaggingClassifier\n",
    "from sklearn.ensemble import AdaBoostClassifier\n",
    "\n",
    "# import evaluation metrics\n",
    "from sklearn.metrics import accuracy_score\n",
    "from sklearn.model_selection import cross_val_score\n",
    "from sklearn.metrics import accuracy_score\n",
    "from sklearn.metrics import precision_score\n",
    "from sklearn.metrics import recall_score\n",
    "from sklearn.metrics import f1_score\n",
    "\n",
    "# import model tuning methods\n",
    "from hyperopt import STATUS_OK, Trials, fmin, hp, tpe, space_eval\n",
    "import hyperopt"
   ]
  },
  {
   "cell_type": "markdown",
   "metadata": {},
   "source": [
    "## 0. Data Preparation"
   ]
  },
  {
   "cell_type": "code",
   "execution_count": 32,
   "metadata": {
    "id": "ad868d0a",
    "outputId": "e9d34670-7c18-4698-fcf0-57d4da38f9d7"
   },
   "outputs": [
    {
     "data": {
      "text/html": [
       "<div>\n",
       "<style scoped>\n",
       "    .dataframe tbody tr th:only-of-type {\n",
       "        vertical-align: middle;\n",
       "    }\n",
       "\n",
       "    .dataframe tbody tr th {\n",
       "        vertical-align: top;\n",
       "    }\n",
       "\n",
       "    .dataframe thead th {\n",
       "        text-align: right;\n",
       "    }\n",
       "</style>\n",
       "<table border=\"1\" class=\"dataframe\">\n",
       "  <thead>\n",
       "    <tr style=\"text-align: right;\">\n",
       "      <th></th>\n",
       "      <th>age</th>\n",
       "      <th>gender</th>\n",
       "      <th>ap_hi</th>\n",
       "      <th>ap_lo</th>\n",
       "      <th>cholesterol</th>\n",
       "      <th>gluc</th>\n",
       "      <th>smoke</th>\n",
       "      <th>alco</th>\n",
       "      <th>active</th>\n",
       "      <th>cardio</th>\n",
       "      <th>BMI</th>\n",
       "    </tr>\n",
       "  </thead>\n",
       "  <tbody>\n",
       "    <tr>\n",
       "      <th>0</th>\n",
       "      <td>72</td>\n",
       "      <td>1</td>\n",
       "      <td>110</td>\n",
       "      <td>80</td>\n",
       "      <td>1</td>\n",
       "      <td>1</td>\n",
       "      <td>0</td>\n",
       "      <td>0</td>\n",
       "      <td>1</td>\n",
       "      <td>0</td>\n",
       "      <td>21.967</td>\n",
       "    </tr>\n",
       "    <tr>\n",
       "      <th>1</th>\n",
       "      <td>67</td>\n",
       "      <td>0</td>\n",
       "      <td>140</td>\n",
       "      <td>90</td>\n",
       "      <td>3</td>\n",
       "      <td>1</td>\n",
       "      <td>0</td>\n",
       "      <td>0</td>\n",
       "      <td>1</td>\n",
       "      <td>1</td>\n",
       "      <td>34.928</td>\n",
       "    </tr>\n",
       "    <tr>\n",
       "      <th>2</th>\n",
       "      <td>71</td>\n",
       "      <td>0</td>\n",
       "      <td>130</td>\n",
       "      <td>70</td>\n",
       "      <td>3</td>\n",
       "      <td>1</td>\n",
       "      <td>0</td>\n",
       "      <td>0</td>\n",
       "      <td>0</td>\n",
       "      <td>1</td>\n",
       "      <td>23.508</td>\n",
       "    </tr>\n",
       "    <tr>\n",
       "      <th>3</th>\n",
       "      <td>74</td>\n",
       "      <td>1</td>\n",
       "      <td>150</td>\n",
       "      <td>100</td>\n",
       "      <td>1</td>\n",
       "      <td>1</td>\n",
       "      <td>0</td>\n",
       "      <td>0</td>\n",
       "      <td>1</td>\n",
       "      <td>1</td>\n",
       "      <td>28.710</td>\n",
       "    </tr>\n",
       "    <tr>\n",
       "      <th>4</th>\n",
       "      <td>75</td>\n",
       "      <td>0</td>\n",
       "      <td>100</td>\n",
       "      <td>60</td>\n",
       "      <td>1</td>\n",
       "      <td>1</td>\n",
       "      <td>0</td>\n",
       "      <td>0</td>\n",
       "      <td>0</td>\n",
       "      <td>0</td>\n",
       "      <td>23.011</td>\n",
       "    </tr>\n",
       "  </tbody>\n",
       "</table>\n",
       "</div>"
      ],
      "text/plain": [
       "   age  gender  ap_hi  ap_lo  cholesterol  gluc  smoke  alco  active  cardio  \\\n",
       "0   72       1    110     80            1     1      0     0       1       0   \n",
       "1   67       0    140     90            3     1      0     0       1       1   \n",
       "2   71       0    130     70            3     1      0     0       0       1   \n",
       "3   74       1    150    100            1     1      0     0       1       1   \n",
       "4   75       0    100     60            1     1      0     0       0       0   \n",
       "\n",
       "      BMI  \n",
       "0  21.967  \n",
       "1  34.928  \n",
       "2  23.508  \n",
       "3  28.710  \n",
       "4  23.011  "
      ]
     },
     "execution_count": 32,
     "metadata": {},
     "output_type": "execute_result"
    }
   ],
   "source": [
    "# read data from csv file\n",
    "df = pd.read_csv('cardio_train_cleaned.csv')\n",
    "\n",
    "df.head()"
   ]
  },
  {
   "cell_type": "code",
   "execution_count": 33,
   "metadata": {
    "id": "3ab78d67"
   },
   "outputs": [],
   "source": [
    "# split dataframe into variables and label\n",
    "X = df.drop('cardio', axis=1)\n",
    "y = df['cardio']\n",
    "\n",
    "# scaling with StandardScalar\n",
    "standardScaler = StandardScaler() \n",
    "X_norm = standardScaler.fit_transform(X)\n",
    "\n",
    "# split data into train and validation and test\n",
    "X_train, X_rem, y_train, y_rem = train_test_split(X_norm,y, train_size=0.8, stratify=y, random_state=42)\n",
    "X_valid, X_test, y_valid, y_test = train_test_split(X_rem,y_rem, test_size=0.5, stratify=y_rem, random_state=42)"
   ]
  },
  {
   "cell_type": "markdown",
   "metadata": {
    "id": "f8eb4d59"
   },
   "source": [
    "## 1. KNN"
   ]
  },
  {
   "cell_type": "code",
   "execution_count": 34,
   "metadata": {
    "id": "61cc4d4b"
   },
   "outputs": [
    {
     "name": "stdout",
     "output_type": "stream",
     "text": [
      "0.7171717771183646                                                                                                     \n",
      "{'leaf_size': 70, 'n_neighbors': 98, 'weights': 'distance'}                                                            \n",
      "0.7202850862732169                                                                                                     \n",
      "{'leaf_size': 93, 'n_neighbors': 40, 'weights': 'uniform'}                                                             \n",
      "0.7185062094735686                                                                                                     \n",
      "{'leaf_size': 60, 'n_neighbors': 88, 'weights': 'distance'}                                                            \n",
      "0.7239909880206616                                                                                                     \n",
      "{'leaf_size': 8, 'n_neighbors': 27, 'weights': 'uniform'}                                                              \n",
      "0.7064978569073526                                                                                                     \n",
      "{'leaf_size': 73, 'n_neighbors': 7, 'weights': 'uniform'}                                                              \n",
      "0.714505110451698                                                                                                      \n",
      "{'leaf_size': 99, 'n_neighbors': 43, 'weights': 'distance'}                                                            \n",
      "0.6789293328937246                                                                                                     \n",
      "{'leaf_size': 14, 'n_neighbors': 6, 'weights': 'distance'}                                                             \n",
      "0.7170238487745906                                                                                                     \n",
      "{'leaf_size': 29, 'n_neighbors': 40, 'weights': 'distance'}                                                            \n",
      "0.7161338608638312                                                                                                     \n",
      "{'leaf_size': 95, 'n_neighbors': 33, 'weights': 'distance'}                                                            \n",
      "0.7211737553577315                                                                                                     \n",
      "{'leaf_size': 69, 'n_neighbors': 59, 'weights': 'uniform'}                                                             \n",
      "100%|███████████████████████████████████████████████| 10/10 [00:12<00:00,  1.20s/trial, best loss: -0.7239909880206616]\n",
      "Best:\n",
      "{'leaf_size': 7, 'n_neighbors': 26, 'weights': 0}\n"
     ]
    }
   ],
   "source": [
    "# hyperparameter tuning with Hyperopt\n",
    "def objective(search_space):\n",
    "    neigh = KNeighborsClassifier(**search_space)\n",
    "    current_score = cross_val_score(neigh, X_valid, y_valid, cv=10).mean()\n",
    "    print(current_score, search_space)\n",
    "    return {'loss': -current_score, 'status': STATUS_OK}\n",
    "\n",
    "search_space = {\n",
    "            'n_neighbors': hp.choice('n_neighbors', range(1, 100)),\n",
    "            'weights': hp.choice('weights', ['uniform', 'distance']),\n",
    "            'leaf_size': hp.choice('leaf_size', range(1,100))\n",
    "        }\n",
    "\n",
    "best_params = fmin(fn=objective, space=search_space, algo=tpe.suggest, max_evals=10)\n",
    "best_params_base = best_params\n",
    "print('Best:')\n",
    "print(best_params)\n",
    "    "
   ]
  },
  {
   "cell_type": "code",
   "execution_count": 35,
   "metadata": {},
   "outputs": [
    {
     "name": "stdout",
     "output_type": "stream",
     "text": [
      "Train Results\n",
      "Accuracy:  0.7418697303808024\n",
      "Precision:  0.7685467588813952\n",
      "Recall:  0.6768433397646881\n",
      "f1_score: 0.7197859671709044\n",
      "\n",
      "Test Results\n",
      "Accuracy:  0.72561517936555\n",
      "Precision:  0.7502583534274888\n",
      "Recall:  0.6592009685230025\n",
      "f1_score: 0.7017883035282746\n"
     ]
    }
   ],
   "source": [
    "# Get algorithm string as hp.choice only can display the integer\n",
    "weights_dic = {0:'uniform', 1:'distance'}\n",
    "weights = weights_dic[best_params_base['weights']]\n",
    "\n",
    "# fit hyperparamater(Hyperopt) and train data into the model\n",
    "neigh = KNeighborsClassifier(leaf_size=best_params_base['leaf_size'], n_neighbors=best_params_base['n_neighbors'], weights=weights)\n",
    "model = neigh.fit(X_train, y_train)\n",
    "y_pred_train = model.predict(X_train)\n",
    "y_pred_test = model.predict(X_test)\n",
    "\n",
    "# evaluation metrics\n",
    "accuracy = accuracy_score(y_train, y_pred_train)\n",
    "precision = precision_score(y_train, y_pred_train, average='binary')\n",
    "recall = recall_score(y_train, y_pred_train, average='binary')\n",
    "f1 = f1_score(y_train, y_pred_train, average='binary')\n",
    "\n",
    "print('Train Results')\n",
    "print('Accuracy: ', accuracy)\n",
    "print('Precision: ', precision)\n",
    "print('Recall: ', recall)\n",
    "print('f1_score:', f1)\n",
    "\n",
    "accuracy = accuracy_score(y_test, y_pred_test)\n",
    "precision = precision_score(y_test, y_pred_test, average='binary')\n",
    "recall = recall_score(y_test, y_pred_test, average='binary')\n",
    "f1 = f1_score(y_test, y_pred_test, average='binary')\n",
    "\n",
    "print('\\nTest Results')\n",
    "print('Accuracy: ', accuracy)\n",
    "print('Precision: ', precision)\n",
    "print('Recall: ', recall)\n",
    "print('f1_score:', f1)"
   ]
  },
  {
   "cell_type": "markdown",
   "metadata": {},
   "source": [
    "## 2. Bagging with KNN"
   ]
  },
  {
   "cell_type": "code",
   "execution_count": 36,
   "metadata": {
    "id": "dc091cc0",
    "outputId": "9f68b3a4-bc08-492b-d4cf-a44139e6515a"
   },
   "outputs": [
    {
     "name": "stdout",
     "output_type": "stream",
     "text": [
      "0.7232515661061656                                                                                                     \n",
      "{'n_estimators': 42}                                                                                                   \n",
      "0.7229546103967469                                                                                                     \n",
      "{'n_estimators': 398}                                                                                                  \n",
      "0.7241400153863062                                                                                                     \n",
      "{'n_estimators': 857}                                                                                                  \n",
      "0.7238430596768876                                                                                                     \n",
      "{'n_estimators': 862}                                                                                                  \n",
      "0.7239925266512803                                                                                                     \n",
      "{'n_estimators': 804}                                                                                                  \n",
      "0.7247326079788987                                                                                                     \n",
      "{'n_estimators': 393}                                                                                                  \n",
      "0.7232520057149137                                                                                                     \n",
      "{'n_estimators': 968}                                                                                                  \n",
      "0.7225101659523024                                                                                                     \n",
      "{'n_estimators': 466}                                                                                                  \n",
      "0.724437190900099                                                                                                      \n",
      "{'n_estimators': 864}                                                                                                  \n",
      "0.723843938894384                                                                                                      \n",
      "{'n_estimators': 874}                                                                                                  \n",
      "100%|████████████████████████████████████████████| 10/10 [2:10:26<00:00, 782.65s/trial, best loss: -0.7247326079788987]\n",
      "Best:\n",
      "{'n_estimators': 392}\n"
     ]
    }
   ],
   "source": [
    "# hyperparameter tuning with Hyperopt\n",
    "def objective(search_space):\n",
    "    neigh = KNeighborsClassifier(leaf_size=best_params_base['leaf_size'], n_neighbors=best_params_base['n_neighbors'], weights=weights)\n",
    "    clf = BaggingClassifier(**search_space, base_estimator=neigh)\n",
    "    current_score = cross_val_score(clf, X_valid, y_valid, cv=10).mean()\n",
    "    print(current_score, search_space)\n",
    "    return {'loss': -current_score, 'status': STATUS_OK}\n",
    "\n",
    "search_space = {\n",
    "            'n_estimators': hp.choice('n_estimators', range(1, 1000))\n",
    "        }\n",
    "\n",
    "best_params = fmin(fn=objective, space=search_space, algo=tpe.suggest, max_evals=10)\n",
    "print('Best:')\n",
    "print(best_params)"
   ]
  },
  {
   "cell_type": "code",
   "execution_count": 41,
   "metadata": {
    "id": "8c7a3e65",
    "outputId": "58a58026-ea9d-476b-e2d6-3769baf6bea1"
   },
   "outputs": [
    {
     "name": "stdout",
     "output_type": "stream",
     "text": [
      "Train Results\n",
      "Accuracy:  0.7943296581117391\n",
      "Precision:  0.7985824441155853\n",
      "Recall:  0.775772708356978\n",
      "f1_score: 0.787012339045499\n",
      "\n",
      "Test Results\n",
      "Accuracy:  0.7027868366439372\n",
      "Precision:  0.7026521060842433\n",
      "Recall:  0.6815980629539952\n",
      "f1_score: 0.6919649715778153\n"
     ]
    }
   ],
   "source": [
    "# fit hyperparamater(Hyperopt) and train data into the model\n",
    "neigh = KNeighborsClassifier(leaf_size=best_params_base['leaf_size'], n_neighbors=best_params_base['n_neighbors'], weights=weights)\n",
    "clf = BaggingClassifier(base_estimator=neigh, n_estimators=best_params['n_estimators'], random_state=42)\n",
    "clf.fit(X_train, y_train)\n",
    "y_pred_train = clf.predict(X_train)\n",
    "y_pred_test = clf.predict(X_test)\n",
    "\n",
    "# evaluation metrics\n",
    "accuracy = accuracy_score(y_train, y_pred_train)\n",
    "precision = precision_score(y_train, y_pred_train, average='binary')\n",
    "recall = recall_score(y_train, y_pred_train, average='binary')\n",
    "f1 = f1_score(y_train, y_pred_train, average='binary')\n",
    "\n",
    "print('Train Results')\n",
    "print('Accuracy: ', accuracy)\n",
    "print('Precision: ', precision)\n",
    "print('Recall: ', recall)\n",
    "print('f1_score:', f1)\n",
    "\n",
    "accuracy = accuracy_score(y_test, y_pred_test)\n",
    "precision = precision_score(y_test, y_pred_test, average='binary')\n",
    "recall = recall_score(y_test, y_pred_test, average='binary')\n",
    "f1 = f1_score(y_test, y_pred_test, average='binary')\n",
    "\n",
    "print('\\nTest Results')\n",
    "print('Accuracy: ', accuracy)\n",
    "print('Precision: ', precision)\n",
    "print('Recall: ', recall)\n",
    "print('f1_score:', f1)"
   ]
  },
  {
   "cell_type": "markdown",
   "metadata": {},
   "source": [
    "## 3. AdaBoost with KNN"
   ]
  },
  {
   "attachments": {
    "image.png": {
     "image/png": "[encoded data removed]"
    }
   },
   "cell_type": "markdown",
   "metadata": {
    "id": "f243596e"
   },
   "source": [
    "### Not Applicable\n",
    "Adaboost classifier is a boosting algorithm, which assigns more weightage for misclassification so that it can improve accuracy in the next sequence of models that get trained. For this, the algorithm needs to use sample_weight, which is not available in the KNN classifier, as KNN only computes the nearest neighbor from train data for unknown test data, and assigns class based on max voting.\n",
    "![image.png](attachment:image.png)"
   ]
  },
  {
   "cell_type": "markdown",
   "metadata": {},
   "source": [
    "Recall improved for bagging results."
   ]
  }
 ],
 "metadata": {
  "colab": {
   "provenance": []
  },
  "kernelspec": {
   "display_name": "Python 3",
   "language": "python",
   "name": "python3"
  }
 },
 "nbformat": 4,
 "nbformat_minor": 5
}
